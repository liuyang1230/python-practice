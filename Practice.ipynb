{
  "nbformat": 4,
  "nbformat_minor": 0,
  "metadata": {
    "colab": {
      "name": "Practice.ipynb",
      "provenance": [],
      "collapsed_sections": [],
      "toc_visible": true,
      "authorship_tag": "ABX9TyNnaV+EQj2iBJ3JuRfsJ7P4",
      "include_colab_link": true
    },
    "kernelspec": {
      "name": "python3",
      "display_name": "Python 3"
    },
    "language_info": {
      "name": "python"
    }
  },
  "cells": [
    {
      "cell_type": "markdown",
      "metadata": {
        "id": "view-in-github",
        "colab_type": "text"
      },
      "source": [
        "<a href=\"https://colab.research.google.com/github/liuyang1230/python-practice/blob/main/Practice.ipynb\" target=\"_parent\"><img src=\"https://colab.research.google.com/assets/colab-badge.svg\" alt=\"Open In Colab\"/></a>"
      ]
    },
    {
      "cell_type": "code",
      "metadata": {
        "colab": {
          "base_uri": "https://localhost:8080/"
        },
        "id": "m69n6ATRW_fD",
        "outputId": "f5566478-0d60-43c5-8688-5826fbda0beb"
      },
      "source": [
        "print (\"Hello World!\")"
      ],
      "execution_count": null,
      "outputs": [
        {
          "output_type": "stream",
          "text": [
            "Hello World!\n"
          ],
          "name": "stdout"
        }
      ]
    },
    {
      "cell_type": "code",
      "metadata": {
        "colab": {
          "base_uri": "https://localhost:8080/"
        },
        "id": "EDbVexagY6FR",
        "outputId": "38a28d2f-85f7-476c-ee12-a01fbf598432"
      },
      "source": [
        "a=3\n",
        "b=4\n",
        "print (a+b)"
      ],
      "execution_count": null,
      "outputs": [
        {
          "output_type": "stream",
          "text": [
            "7\n"
          ],
          "name": "stdout"
        }
      ]
    },
    {
      "cell_type": "markdown",
      "metadata": {
        "id": "lIC3nk2cZDhN"
      },
      "source": [
        "**Python** 学習練習\n",
        "#Test 1\n",
        "##Test 2"
      ]
    },
    {
      "cell_type": "code",
      "metadata": {
        "colab": {
          "base_uri": "https://localhost:8080/"
        },
        "id": "c1VkPJshWZMX",
        "outputId": "119a61be-ca7d-4e31-8192-6f380d5513f7"
      },
      "source": [
        "a1=[2012,2013,2014]\n",
        "b1=(2012,2013,2014)\n",
        "print(a1[0])\n",
        "print(b1[2])\n",
        "a1[1]=2018\n",
        "#b1[1]=2018\n",
        "a1.append(2021)\n",
        "#b1.append(2021)\n",
        "print(a1,b1)"
      ],
      "execution_count": null,
      "outputs": [
        {
          "output_type": "stream",
          "text": [
            "2012\n",
            "2014\n",
            "[2012, 2018, 2014, 2021] (2012, 2013, 2014)\n"
          ],
          "name": "stdout"
        }
      ]
    },
    {
      "cell_type": "code",
      "metadata": {
        "colab": {
          "base_uri": "https://localhost:8080/"
        },
        "id": "eLdJpnQyX_K2",
        "outputId": "49190a07-4144-4cc5-ccd3-a9bb0bfc9b3c"
      },
      "source": [
        "Year_list = {\"Amy\":1992, \"Ben\":1994}\n",
        "print (Year_list[\"Amy\"])\n",
        "Year_list[\"Ben\"] = 1993\n",
        "print (Year_list)\n",
        "Year_list[\"Jane\"]=1999\n",
        "print (Year_list)"
      ],
      "execution_count": null,
      "outputs": [
        {
          "output_type": "stream",
          "text": [
            "1992\n",
            "{'Amy': 1992, 'Ben': 1993}\n",
            "{'Amy': 1992, 'Ben': 1993, 'Jane': 1999}\n"
          ],
          "name": "stdout"
        }
      ]
    },
    {
      "cell_type": "code",
      "metadata": {
        "id": "I7Xth8e5PfVV"
      },
      "source": [
        "def say_hello():\n",
        "  print (\"Hello world!\")"
      ],
      "execution_count": null,
      "outputs": []
    },
    {
      "cell_type": "code",
      "metadata": {
        "colab": {
          "base_uri": "https://localhost:8080/"
        },
        "id": "CMAXefd1Pqqb",
        "outputId": "a4ad8f0b-0d00-417f-d9f8-078340991fe2"
      },
      "source": [
        "say_hello()"
      ],
      "execution_count": null,
      "outputs": [
        {
          "output_type": "stream",
          "text": [
            "Hello world!\n"
          ],
          "name": "stdout"
        }
      ]
    },
    {
      "cell_type": "code",
      "metadata": {
        "colab": {
          "base_uri": "https://localhost:8080/"
        },
        "id": "s-N_31tBPytD",
        "outputId": "3b7c650e-8dab-4c62-aa12-8d287e62f660"
      },
      "source": [
        "def say(a):\n",
        "  print (\"Good {}!\".format(a) )\n",
        "say (\"morning\")\n",
        "say (\"evening\")\n",
        "say ('night')"
      ],
      "execution_count": null,
      "outputs": [
        {
          "output_type": "stream",
          "text": [
            "Good morning!\n",
            "Good evening!\n",
            "Good night!\n"
          ],
          "name": "stdout"
        }
      ]
    },
    {
      "cell_type": "code",
      "metadata": {
        "colab": {
          "base_uri": "https://localhost:8080/"
        },
        "id": "UZeU4prxROcI",
        "outputId": "a5d5a86c-56a0-4e9c-a215-8c4eea7886c0"
      },
      "source": [
        "def add(a,b):\n",
        "  c=a+b\n",
        "  return c\n",
        "\n",
        "result1 = add(3,4)\n",
        "print (result1)\n",
        "result2 = add (7,8)\n",
        "print (result2)"
      ],
      "execution_count": null,
      "outputs": [
        {
          "output_type": "stream",
          "text": [
            "7\n",
            "15\n"
          ],
          "name": "stdout"
        }
      ]
    },
    {
      "cell_type": "code",
      "metadata": {
        "colab": {
          "base_uri": "https://localhost:8080/"
        },
        "id": "7Df8LwRlRvdg",
        "outputId": "4c380d29-ccb9-4ede-eeb0-5ec87b6d900d"
      },
      "source": [
        "glob_1=123\n",
        "\n",
        "def show_number():\n",
        "  loc_1=456\n",
        "  print (glob_1,loc_1)\n",
        "\n",
        "show_number()"
      ],
      "execution_count": null,
      "outputs": [
        {
          "output_type": "stream",
          "text": [
            "123 456\n"
          ],
          "name": "stdout"
        }
      ]
    },
    {
      "cell_type": "code",
      "metadata": {
        "colab": {
          "base_uri": "https://localhost:8080/"
        },
        "id": "u4iERseBSYyt",
        "outputId": "86906218-dabe-485c-a7b7-0e9f2b8b7d8f"
      },
      "source": [
        "glob_2=123\n",
        "\n",
        "def set_num():\n",
        "  loc_2=456\n",
        "\n",
        "print(set_num ())\n",
        "#print (glob_2,loc_2)"
      ],
      "execution_count": null,
      "outputs": [
        {
          "output_type": "stream",
          "text": [
            "None\n"
          ],
          "name": "stdout"
        }
      ]
    },
    {
      "cell_type": "code",
      "metadata": {
        "colab": {
          "base_uri": "https://localhost:8080/"
        },
        "id": "ns4qkst_S8tc",
        "outputId": "125bce41-3c17-401b-e981-f0bcecfdcc28"
      },
      "source": [
        "glob_value=123\n",
        "\n",
        "def set_num():\n",
        "  global glob_value\n",
        "  glob_value=456\n",
        "  return glob_value\n",
        "\n",
        "print (set_num())\n",
        "\n",
        "#print (glob_2,loc_2)"
      ],
      "execution_count": null,
      "outputs": [
        {
          "output_type": "stream",
          "text": [
            "456\n"
          ],
          "name": "stdout"
        }
      ]
    },
    {
      "cell_type": "code",
      "metadata": {
        "colab": {
          "base_uri": "https://localhost:8080/"
        },
        "id": "O3whgV3xWY6f",
        "outputId": "5f31435f-949c-4e24-92aa-e6031b313c87"
      },
      "source": [
        "name = \"Henry\"\n",
        "def change_name ():\n",
        "  global name\n",
        "  name = \"Smith\"\n",
        "  return name\n",
        "def hello():\n",
        "  print (\"Hello {}! Nice to meet you!\". format(change_name()))\n",
        "hello()"
      ],
      "execution_count": null,
      "outputs": [
        {
          "output_type": "stream",
          "text": [
            "Hello Smith! Nice to meet you!\n"
          ],
          "name": "stdout"
        }
      ]
    },
    {
      "cell_type": "code",
      "metadata": {
        "colab": {
          "base_uri": "https://localhost:8080/"
        },
        "id": "Fjg-Q6iEY27s",
        "outputId": "99a8d1e6-a89d-4553-baac-ecacc8126b3b"
      },
      "source": [
        "class Calc:\n",
        "  def add(self, a, b):\n",
        "    print (a+b)\n",
        "  def multiply(self, a,b):\n",
        "    print(a*b)\n",
        "cl=Calc()\n",
        "cl.add(2,3)\n",
        "cl.multiply(4,5)"
      ],
      "execution_count": null,
      "outputs": [
        {
          "output_type": "stream",
          "text": [
            "5\n",
            "20\n"
          ],
          "name": "stdout"
        }
      ]
    },
    {
      "cell_type": "code",
      "metadata": {
        "colab": {
          "base_uri": "https://localhost:8080/"
        },
        "id": "7ra1w1GkZtrc",
        "outputId": "110b6479-ca5c-445a-8b5f-afdb73c4c30f"
      },
      "source": [
        "class Hero:\n",
        "  name = input(\"Input your name>>\")\n",
        "  hp=100\n",
        "  def sleep(self,hours):\n",
        "    print(\"{} slept for {} hours!\".format(self.name,hours))\n",
        "    self.hp+=hours\n",
        "  \n",
        "print (\"Fantacy I ~Golden Hometown~\")\n",
        "h=Hero()\n",
        "time=int(input(\"Input the time your slept>>\"))\n",
        "h.sleep(time)\n",
        "#print(h.name)\n",
        "print (\"{}'s HP is {}.\".format(h.name,h.hp))"
      ],
      "execution_count": null,
      "outputs": [
        {
          "output_type": "stream",
          "text": [
            "Input your name>>Amy\n",
            "Fantacy I ~Golden Hometown~\n",
            "Input the time your slept>>6\n",
            "Amy slept for 6 hours!\n",
            "Amy's HP is 106.\n"
          ],
          "name": "stdout"
        }
      ]
    },
    {
      "cell_type": "code",
      "metadata": {
        "colab": {
          "base_uri": "https://localhost:8080/"
        },
        "id": "eAYwaJqTQ5F4",
        "outputId": "348b6784-4a8c-4d6e-8c00-d2cd36cfcb05"
      },
      "source": [
        "class Box:\n",
        "  def set_number(self,n1,n2):\n",
        "    self.num1=n1\n",
        "    self.num2=n2\n",
        "\n",
        "bx=Box()\n",
        "bx.set_number(123,456)\n",
        "\n",
        "print(bx.num1)\n",
        "print(bx.num2)\n",
        "\n",
        "bx.num1=999\n",
        "print(bx.num1)"
      ],
      "execution_count": null,
      "outputs": [
        {
          "output_type": "stream",
          "text": [
            "123\n",
            "456\n",
            "999\n"
          ],
          "name": "stdout"
        }
      ]
    },
    {
      "cell_type": "code",
      "metadata": {
        "colab": {
          "base_uri": "https://localhost:8080/"
        },
        "id": "ZTnbeZM0RiWb",
        "outputId": "8899dda1-0e48-4902-c86c-0dfa87b77bf6"
      },
      "source": [
        "class Dog:\n",
        "  def set_dog(self,n,a):\n",
        "    self.name=n\n",
        "    self.age=a\n",
        "\n",
        "dog1=Dog()\n",
        "dog1.set_dog(\"Pochi\",5)\n",
        "\n",
        "dog2=Dog()\n",
        "dog2.set_dog(\"Hachi\",12)\n",
        "\n",
        "dogs=[dog1,dog2]\n",
        "#print(dogs)\n",
        "for d in dogs:\n",
        "  print(d.name,d.age)"
      ],
      "execution_count": null,
      "outputs": [
        {
          "output_type": "stream",
          "text": [
            "Pochi 5\n",
            "Hachi 12\n"
          ],
          "name": "stdout"
        }
      ]
    },
    {
      "cell_type": "code",
      "metadata": {
        "id": "c8aTl-NkSkbJ"
      },
      "source": [
        "greetings=\"Good morning! Good night!\"\n",
        "\n",
        "with open(\"greetings.txt\",\"w\") as f:\n",
        "  f.write(greetings)"
      ],
      "execution_count": null,
      "outputs": []
    },
    {
      "cell_type": "code",
      "metadata": {
        "colab": {
          "base_uri": "https://localhost:8080/"
        },
        "id": "5KOa1ymRTmvk",
        "outputId": "602a2689-b997-49cf-81b7-5f78f77cf385"
      },
      "source": [
        "with open(\"some_greetings.txt\",\"r\") as f:\n",
        "  print (f.read())"
      ],
      "execution_count": null,
      "outputs": [
        {
          "output_type": "stream",
          "text": [
            "Good morning! \n",
            "Good afternoon!\n",
            "Good evening!\n",
            "Good night!\n"
          ],
          "name": "stdout"
        }
      ]
    },
    {
      "cell_type": "markdown",
      "metadata": {
        "id": "lgBrGsS4Iu2b"
      },
      "source": [
        "#**__init__**メソッド\n",
        "\n",
        "__init__は特殊なメソッドで、イニシャライザ、もしくはコンストラクタと呼ばれています。\n",
        "このメソッドでは、インスタンスの生成時にインスタンスの初期設定を行うことができます。\n",
        "以下のクラスでは、__init__メソッドでインスタンス変数aの初期設定を行っています。"
      ]
    },
    {
      "cell_type": "code",
      "metadata": {
        "id": "cEF6guIU6zbr"
      },
      "source": [
        "class Calc1:\n",
        "  def __init__(self,a):\n",
        "    self.a=a\n",
        "\n",
        "  def add(self,b):\n",
        "    print(self.a+b)\n",
        "\n",
        "  def multiply(self,b):\n",
        "    print (self.a*b)"
      ],
      "execution_count": null,
      "outputs": []
    },
    {
      "cell_type": "code",
      "metadata": {
        "colab": {
          "base_uri": "https://localhost:8080/"
        },
        "id": "DsIglnLg7m69",
        "outputId": "968c97e3-3f2b-4d37-f294-0bd22c62a9a8"
      },
      "source": [
        "cl = Calc1(3)\n",
        "cl.add(4)\n",
        "cl.multiply(4)"
      ],
      "execution_count": null,
      "outputs": [
        {
          "output_type": "stream",
          "text": [
            "7\n",
            "12\n"
          ],
          "name": "stdout"
        }
      ]
    },
    {
      "cell_type": "code",
      "metadata": {
        "colab": {
          "base_uri": "https://localhost:8080/"
        },
        "id": "tVNvqaRiF5w4",
        "outputId": "32d35fba-41f1-4011-dcb0-dc6f09364e77"
      },
      "source": [
        "cl = Calc1(6)\n",
        "cl.add(4)\n",
        "cl.multiply(4)"
      ],
      "execution_count": null,
      "outputs": [
        {
          "output_type": "stream",
          "text": [
            "10\n",
            "24\n"
          ],
          "name": "stdout"
        }
      ]
    },
    {
      "cell_type": "markdown",
      "metadata": {
        "id": "rJuho4lvJC2q"
      },
      "source": [
        "このように、__init__メソッドを使えばインスタンスの生成時にインスタンスに値を渡すことができます。\n",
        "そのため、何度も繰り返して使用したり、複数のメソッドで使う値があれば、__init__メソッドで設定するのが効率的になります。"
      ]
    },
    {
      "cell_type": "markdown",
      "metadata": {
        "id": "KfG5mC-pILpb"
      },
      "source": [
        "#**__call__**メソッド\n",
        "__call__メソッドは、インスタンス名を使って呼び出すことができます。\n",
        "以下では、Calcクラスに__init__メソッドの他に__call__メソッドを実装しています。\n"
      ]
    },
    {
      "cell_type": "code",
      "metadata": {
        "id": "OutZDaeEGg3y"
      },
      "source": [
        "class Calc2:\n",
        "  def __init__(self,a):\n",
        "    self.a = a\n",
        "  \n",
        "  def __call__(self,c):\n",
        "    print (self.a * c + c)\n",
        "  \n",
        "  def add(self,b):\n",
        "    print(self.a+b)\n",
        "\n",
        "  def multiply(self,b):\n",
        "    print (self.a*b)"
      ],
      "execution_count": null,
      "outputs": []
    },
    {
      "cell_type": "code",
      "metadata": {
        "colab": {
          "base_uri": "https://localhost:8080/"
        },
        "id": "eq1Oy1L7HV-o",
        "outputId": "ed73ac73-5e83-4f67-862a-e214525e07ee"
      },
      "source": [
        "cl = Calc2(3)\n",
        "cl(6)"
      ],
      "execution_count": null,
      "outputs": [
        {
          "output_type": "stream",
          "text": [
            "24\n"
          ],
          "name": "stdout"
        }
      ]
    },
    {
      "cell_type": "markdown",
      "metadata": {
        "id": "9-zyYU_BIC8-"
      },
      "source": [
        "このように、__call__メソッドを使えばメソッド名を記述する必要が無くなります。\n",
        "頻繁に用いる処理を__call__メソッドに記述しておくことで、コードの記述量が少なくて済むようになります。"
      ]
    }
  ]
}